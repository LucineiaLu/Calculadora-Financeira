{
  "nbformat": 4,
  "nbformat_minor": 0,
  "metadata": {
    "colab": {
      "provenance": [],
      "authorship_tag": "ABX9TyNqWzskkgd8rW8Y+fQAgauK",
      "include_colab_link": true
    },
    "kernelspec": {
      "name": "python3",
      "display_name": "Python 3"
    },
    "language_info": {
      "name": "python"
    }
  },
  "cells": [
    {
      "cell_type": "markdown",
      "metadata": {
        "id": "view-in-github",
        "colab_type": "text"
      },
      "source": [
        "<a href=\"https://colab.research.google.com/github/LucineiaLu/Calculadora-Financeira/blob/main/ProjetoCalculadora.ipynb\" target=\"_parent\"><img src=\"https://colab.research.google.com/assets/colab-badge.svg\" alt=\"Open In Colab\"/></a>"
      ]
    },
    {
      "cell_type": "code",
      "execution_count": 2,
      "metadata": {
        "colab": {
          "base_uri": "https://localhost:8080/"
        },
        "id": "5Srx4nGiasiG",
        "outputId": "997077c2-c902-4cc8-b412-40b4f4a23e2e"
      },
      "outputs": [
        {
          "output_type": "stream",
          "name": "stdout",
          "text": [
            "Digite sua renda mensal: 4500\n",
            "Informe o valor do empréstimo desejado: R$34500\n",
            "Informe o prazo do empréstimo (em meses): 36\n",
            "Informe a taxa de juros anual (%): 7\n",
            "Taxa de juros anual: 7.00%\n",
            "Prestação mensal: R$1065.26\n",
            "\n",
            "Resultados do Cálculo:\n",
            "Renda Mensal: 4500.00\n",
            "Taxa de juros anual: 7.00%\n",
            "Prestação mensal: R$1065.26\n",
            "Valor do emprestimo: R$34500.00\n",
            "Custo total do empréstimo: R$38349.35\n"
          ]
        }
      ],
      "source": [
        "# Projeto 1: Calculadora Financeira com Validação de Renda\n",
        "\n",
        "# Neste projeto, os alunos criarão uma calculadora financeira em Python que ajudará os usuários a calcular empréstimos com base em sua renda. A aplicação incluirá as seguintes etapas:\n",
        "# ➔ Validação de Renda:\n",
        "# ◆ Os usuários inserirão informações sobre sua renda mensal.\n",
        "# ◆ A aplicação verificará se a renda inserida é válida e está dentro de um limite específico.\n",
        "# ➔ Cálculo de Empréstimo:\n",
        "# ◆ Após a validação bem-sucedida da renda, os usuários poderão inserir o valor do empréstimo desejado e o prazo.\n",
        "# ◆ A aplicação calculará a taxa de juros apropriada e o valor das prestações mensais.\n",
        "# ➔ Apresentação dos Resultados:\n",
        "# ◆ A aplicação exibirá os resultados do cálculo, incluindo o valor das prestações mensais e o custo total do empréstimo.\n",
        "\n",
        "# Função para validar a renda do usuário\n",
        "def validar_renda():\n",
        "    try:\n",
        "        renda_mensal = float(input(\"Digite sua renda mensal: \"))\n",
        "        limite_renda = 1000.0  # Limite de renda\n",
        "        if renda_mensal >= limite_renda:\n",
        "            return renda_mensal\n",
        "        else:\n",
        "            print(\"Erro: Sua renda mensal é muito baixa para solicitar um empréstimo.\")\n",
        "            return None\n",
        "    except ValueError:\n",
        "        print(\"Erro: Por favor, insira uma renda válida.\")\n",
        "        return None\n",
        "\n",
        "# Função para calcular o emprestimo\n",
        "def calcular_emprestimo(renda, valor_emprestimo, prazo, taxa_juros_anual):\n",
        "    taxa_juros_mensal = taxa_juros_anual / 12 / \\\n",
        "        100  # Convertendo taxa anual para mensal\n",
        "    valor_prestacao = (valor_emprestimo * taxa_juros_mensal) / \\\n",
        "        (1 - (1 + taxa_juros_mensal) ** -prazo)\n",
        "\n",
        "    return taxa_juros_anual, valor_prestacao\n",
        "\n",
        "# Apresenta os resultados\n",
        "def apresentar_resultados(taxa_juros_anual, prestacao_mensal, valor_emprestimo, prazo_emprestimo):\n",
        "    custo_total = prestacao_mensal * prazo_emprestimo\n",
        "    print(\"\\nResultados do Cálculo:\")\n",
        "    print(f\"Renda Mensal: {renda_valida:.2f}\")\n",
        "    print(f\"Taxa de juros anual: {taxa_juros_anual:.2f}%\")\n",
        "    print(f\"Prestação mensal: R${prestacao_mensal:.2f}\")\n",
        "    print(f\"Valor do emprestimo: R${valor_emprestimo:.2f}\")\n",
        "    print(f\"Custo total do empréstimo: R${custo_total:.2f}\")\n",
        "\n",
        "\n",
        "# Validação de Renda\n",
        "renda_valida = validar_renda()\n",
        "if renda_valida is not None:\n",
        "    # Cálculo de Empréstimo\n",
        "    valor_emprestimo = float(\n",
        "        input(\"Informe o valor do empréstimo desejado: R$\"))\n",
        "    prazo_emprestimo = int(input(\"Informe o prazo do empréstimo (em meses): \"))\n",
        "    taxa_juros_anual = float(input(\"Informe a taxa de juros anual (%): \"))\n",
        "\n",
        "    taxa_juros_anual, prestacao_mensal = calcular_emprestimo(\n",
        "        renda_valida, valor_emprestimo, prazo_emprestimo, taxa_juros_anual)\n",
        "\n",
        "    # Apresentação dos Resultados\n",
        "    print(f\"Taxa de juros anual: {taxa_juros_anual:.2f}%\")\n",
        "    print(f\"Prestação mensal: R${prestacao_mensal:.2f}\")\n",
        "\n",
        "    apresentar_resultados(taxa_juros_anual, prestacao_mensal, valor_emprestimo, prazo_emprestimo)\n"
      ]
    }
  ]
}